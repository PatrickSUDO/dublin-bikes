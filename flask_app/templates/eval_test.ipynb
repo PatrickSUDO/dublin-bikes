{
 "cells": [
  {
   "cell_type": "code",
   "execution_count": 34,
   "metadata": {},
   "outputs": [],
   "source": [
    "import sys\n",
    "sys.path.insert(1, \"/Users/pie_trick/Desktop/Semester2/SWengineering/dublin-bikes\")    \n",
    "import pymysql\n",
    "from sqlalchemy import create_engine\n",
    "from models.schemas import Base\n",
    "from config import MySQL\n",
    "import pandas as pd\n",
    "import numpy as np\n",
    "import joblib\n",
    "\n",
    "\n",
    "host = MySQL.host\n",
    "user = MySQL.username\n",
    "password = MySQL.password\n",
    "database = MySQL.database\n",
    "\n",
    "engine = create_engine(f'mysql+pymysql://{user}:{password}@{host}/{database}')\n",
    "Base.metadata.create_all(engine)\n",
    "\n",
    "\n",
    "\n",
    "number_input = 10\n",
    "query_bike = \"SELECT * \\\n",
    "              FROM development.dublin_bike\\\n",
    "              WHERE number = %(number)s\\\n",
    "              ORDER BY scraping_time desc\\\n",
    "              LIMIT 1\"\n",
    "\n",
    "query_weather = \"SELECT * \\\n",
    "                FROM development.current_weather\\\n",
    "                WHERE stationNum =%(number)s \\\n",
    "                ORDER BY datetime desc\\\n",
    "                LIMIT 1\"\n",
    "\n",
    "bike_df = pd.read_sql_query(sql=query_bike, con=engine, params={'number': number_input}, parse_dates=['scraping_time'])\n",
    "weather_df = pd.read_sql_query(sql=query_weather, con=engine, params={'number': number_input}, parse_dates=['scraping_time'])\n",
    "# weather_df.to_pickle(\"./weather_df.pkl\")\n",
    "# bike_df.to_pickle(\"./bike_df.pkl\")\n",
    "\n",
    "# bike_df = pd.read_pickle(\"./bike_df.pkl\")\n",
    "# weather_df = pd.read_pickle(\"./weather_df.pkl\")"
   ]
  },
  {
   "cell_type": "code",
   "execution_count": 35,
   "metadata": {},
   "outputs": [
    {
     "data": {
      "text/html": [
       "<div>\n",
       "<style scoped>\n",
       "    .dataframe tbody tr th:only-of-type {\n",
       "        vertical-align: middle;\n",
       "    }\n",
       "\n",
       "    .dataframe tbody tr th {\n",
       "        vertical-align: top;\n",
       "    }\n",
       "\n",
       "    .dataframe thead th {\n",
       "        text-align: right;\n",
       "    }\n",
       "</style>\n",
       "<table border=\"1\" class=\"dataframe\">\n",
       "  <thead>\n",
       "    <tr style=\"text-align: right;\">\n",
       "      <th></th>\n",
       "      <th>scraping_time</th>\n",
       "      <th>number</th>\n",
       "      <th>last_update</th>\n",
       "      <th>address</th>\n",
       "      <th>site_names</th>\n",
       "      <th>latitude</th>\n",
       "      <th>longitude</th>\n",
       "      <th>bike_stand</th>\n",
       "      <th>available_bike_stand</th>\n",
       "      <th>available_bike</th>\n",
       "      <th>status</th>\n",
       "      <th>banking</th>\n",
       "      <th>bonus</th>\n",
       "    </tr>\n",
       "  </thead>\n",
       "  <tbody>\n",
       "    <tr>\n",
       "      <th>0</th>\n",
       "      <td>2020-03-29 17:35:01</td>\n",
       "      <td>10</td>\n",
       "      <td>2020-03-29 17:34:16</td>\n",
       "      <td>Dame Street</td>\n",
       "      <td>DAME STREET</td>\n",
       "      <td>53.344</td>\n",
       "      <td>-6.2668</td>\n",
       "      <td>16</td>\n",
       "      <td>3</td>\n",
       "      <td>13</td>\n",
       "      <td>OPEN</td>\n",
       "      <td>1</td>\n",
       "      <td>0</td>\n",
       "    </tr>\n",
       "  </tbody>\n",
       "</table>\n",
       "</div>"
      ],
      "text/plain": [
       "        scraping_time  number          last_update      address   site_names  \\\n",
       "0 2020-03-29 17:35:01      10  2020-03-29 17:34:16  Dame Street  DAME STREET   \n",
       "\n",
       "   latitude  longitude  bike_stand  available_bike_stand  available_bike  \\\n",
       "0    53.344    -6.2668          16                     3              13   \n",
       "\n",
       "  status  banking  bonus  \n",
       "0   OPEN        1      0  "
      ]
     },
     "execution_count": 35,
     "metadata": {},
     "output_type": "execute_result"
    }
   ],
   "source": [
    "bike_df"
   ]
  },
  {
   "cell_type": "code",
   "execution_count": 36,
   "metadata": {},
   "outputs": [
    {
     "data": {
      "text/html": [
       "<div>\n",
       "<style scoped>\n",
       "    .dataframe tbody tr th:only-of-type {\n",
       "        vertical-align: middle;\n",
       "    }\n",
       "\n",
       "    .dataframe tbody tr th {\n",
       "        vertical-align: top;\n",
       "    }\n",
       "\n",
       "    .dataframe thead th {\n",
       "        text-align: right;\n",
       "    }\n",
       "</style>\n",
       "<table border=\"1\" class=\"dataframe\">\n",
       "  <thead>\n",
       "    <tr style=\"text-align: right;\">\n",
       "      <th></th>\n",
       "      <th>datetime</th>\n",
       "      <th>temperature</th>\n",
       "      <th>description</th>\n",
       "      <th>icon</th>\n",
       "      <th>lon</th>\n",
       "      <th>lat</th>\n",
       "      <th>wind_spd</th>\n",
       "      <th>clouds</th>\n",
       "      <th>sunset</th>\n",
       "      <th>code</th>\n",
       "      <th>weekday</th>\n",
       "      <th>stationNum</th>\n",
       "    </tr>\n",
       "  </thead>\n",
       "  <tbody>\n",
       "    <tr>\n",
       "      <th>0</th>\n",
       "      <td>2020-03-29 17:35:01</td>\n",
       "      <td>4.92</td>\n",
       "      <td>few clouds</td>\n",
       "      <td>02d</td>\n",
       "      <td>-6.27</td>\n",
       "      <td>53.34</td>\n",
       "      <td>5.7</td>\n",
       "      <td>20.0</td>\n",
       "      <td>1585508064</td>\n",
       "      <td>801</td>\n",
       "      <td>7</td>\n",
       "      <td>10</td>\n",
       "    </tr>\n",
       "  </tbody>\n",
       "</table>\n",
       "</div>"
      ],
      "text/plain": [
       "             datetime temperature description icon   lon    lat  wind_spd  \\\n",
       "0 2020-03-29 17:35:01        4.92  few clouds  02d -6.27  53.34       5.7   \n",
       "\n",
       "   clouds      sunset code  weekday  stationNum  \n",
       "0    20.0  1585508064  801        7          10  "
      ]
     },
     "execution_count": 36,
     "metadata": {},
     "output_type": "execute_result"
    }
   ],
   "source": [
    "weather_df"
   ]
  },
  {
   "cell_type": "code",
   "execution_count": 37,
   "metadata": {},
   "outputs": [],
   "source": [
    "def labeling_eval(df):\n",
    "    df['available_bike_ratio'] = df['available_bike'] / df['bike_stand']\n",
    "    return df"
   ]
  },
  {
   "cell_type": "code",
   "execution_count": 38,
   "metadata": {},
   "outputs": [],
   "source": [
    "def merge_df(bike_df, weather_df):\n",
    "    combined_df = pd.merge(bike_df, weather_df,  how='inner',\\\n",
    "                           left_on=['number', 'scraping_time'],\\\n",
    "                           right_on = ['stationNum', 'datetime'],\\\n",
    "                           suffixes=('_bike','_weather'))\n",
    "    return combined_df"
   ]
  },
  {
   "cell_type": "code",
   "execution_count": 39,
   "metadata": {},
   "outputs": [],
   "source": [
    "def datetime_conversion(df, df_col):\n",
    "    df['hour'] = df[df_col].dt.hour\n",
    "    return df"
   ]
  },
  {
   "cell_type": "code",
   "execution_count": 40,
   "metadata": {},
   "outputs": [],
   "source": [
    "def time_transform(df, col, max_val):\n",
    "    df[col + '_sin'] = np.sin(2 * np.pi * df[col]/max_val)\n",
    "    df[col + '_cos'] = np.cos(2 * np.pi * df[col]/max_val)\n",
    "    df = df.drop([col], axis = 1)\n",
    "    return df"
   ]
  },
  {
   "cell_type": "code",
   "execution_count": 41,
   "metadata": {},
   "outputs": [],
   "source": [
    "    def data_cleaning(df):\n",
    "        pd.set_option('display.max_columns', 500)\n",
    "        col_to_drop = ['address', 'site_names','bonus', 'last_update', 'datetime','icon', 'lon', 'lat', 'stationNum','available_bike_stand','description','status','sunset']\n",
    "        df = df.drop(col_to_drop, axis = 1)\n",
    "        df = df.drop_duplicates().reset_index()\n",
    "        df = df.drop(['index'] ,axis = 1)\n",
    "        df = df.drop(['scraping_time','available_bike'] ,axis = 1)\n",
    "\n",
    "        return df"
   ]
  },
  {
   "cell_type": "code",
   "execution_count": 42,
   "metadata": {},
   "outputs": [],
   "source": [
    "def data_type_conversion(df):\n",
    "    categorical_col = ['code']\n",
    "    df[categorical_col] = df[categorical_col].astype('category')\n",
    "    df['banking'] = df['banking'].astype('int32')\n",
    "    df['code'] = df['code'].astype('int32') // 100\n",
    "    df['temperature'] = df['temperature'].astype('float64')\n",
    "#     status_map = {'OPEN':1,'CLOSE':0}\n",
    "#     df['status'] = df['status'].map(status_map)\n",
    "    return df"
   ]
  },
  {
   "cell_type": "code",
   "execution_count": 46,
   "metadata": {},
   "outputs": [
    {
     "data": {
      "text/plain": [
       "Index(['number', 'latitude', 'longitude', 'bike_stand', 'banking',\n",
       "       'available_bike_ratio', 'temperature', 'wind_spd', 'clouds', 'code',\n",
       "       'weekday_sin', 'weekday_cos', 'hour_sin', 'hour_cos'],\n",
       "      dtype='object')"
      ]
     },
     "execution_count": 46,
     "metadata": {},
     "output_type": "execute_result"
    }
   ],
   "source": [
    "bike_df = labeling_eval(bike_df)\n",
    "combined_df = merge_df(bike_df, weather_df)\n",
    "combined_df = datetime_conversion(combined_df, \"scraping_time\")\n",
    "combined_df = data_type_conversion(combined_df)\n",
    "combined_df = data_cleaning(combined_df)\n",
    "combined_df = time_transform(combined_df, 'weekday', 7)\n",
    "combined_df = time_transform(combined_df, 'hour', 23)\n",
    "combined_df.columns"
   ]
  },
  {
   "cell_type": "code",
   "execution_count": 47,
   "metadata": {},
   "outputs": [
    {
     "data": {
      "text/plain": [
       "['number',\n",
       " 'latitude',\n",
       " 'longitude',\n",
       " 'bike_stand',\n",
       " 'banking',\n",
       " 'temperature',\n",
       " 'wind_spd',\n",
       " 'clouds',\n",
       " 'code',\n",
       " 'weekday_sin',\n",
       " 'weekday_cos',\n",
       " 'hour_sin',\n",
       " 'hour_cos']"
      ]
     },
     "execution_count": 47,
     "metadata": {},
     "output_type": "execute_result"
    }
   ],
   "source": [
    "['number', 'latitude', 'longitude', 'bike_stand', 'banking',\n",
    "       'temperature', 'wind_spd', 'clouds', 'code', 'weekday_sin',\n",
    "       'weekday_cos', 'hour_sin', 'hour_cos']"
   ]
  },
  {
   "cell_type": "code",
   "execution_count": 48,
   "metadata": {},
   "outputs": [
    {
     "data": {
      "text/plain": [
       "14"
      ]
     },
     "execution_count": 48,
     "metadata": {},
     "output_type": "execute_result"
    }
   ],
   "source": [
    "len(combined_df.columns)"
   ]
  },
  {
   "cell_type": "code",
   "execution_count": 49,
   "metadata": {},
   "outputs": [
    {
     "name": "stdout",
     "output_type": "stream",
     "text": [
      "CPU times: user 1.79 s, sys: 385 ms, total: 2.17 s\n",
      "Wall time: 2.3 s\n"
     ]
    }
   ],
   "source": [
    "%%time\n",
    "model_name = 'rf_model.pkl'\n",
    "model = joblib.load(model_name)\n",
    "y_prediction = model.predict(combined_df)"
   ]
  },
  {
   "cell_type": "code",
   "execution_count": 50,
   "metadata": {},
   "outputs": [
    {
     "data": {
      "text/plain": [
       "0    0.196167\n",
       "dtype: float64"
      ]
     },
     "execution_count": 50,
     "metadata": {},
     "output_type": "execute_result"
    }
   ],
   "source": [
    "y_prediction = pd.Series(y_prediction)\n",
    "y_prediction"
   ]
  },
  {
   "cell_type": "code",
   "execution_count": null,
   "metadata": {},
   "outputs": [],
   "source": []
  }
 ],
 "metadata": {
  "kernelspec": {
   "display_name": "Python 3",
   "language": "python",
   "name": "python3"
  },
  "language_info": {
   "codemirror_mode": {
    "name": "ipython",
    "version": 3
   },
   "file_extension": ".py",
   "mimetype": "text/x-python",
   "name": "python",
   "nbconvert_exporter": "python",
   "pygments_lexer": "ipython3",
   "version": "3.7.6"
  }
 },
 "nbformat": 4,
 "nbformat_minor": 2
}
